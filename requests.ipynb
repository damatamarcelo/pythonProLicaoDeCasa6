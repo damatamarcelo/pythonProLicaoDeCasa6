{
 "cells": [
  {
   "cell_type": "code",
   "execution_count": 5,
   "metadata": {},
   "outputs": [],
   "source": [
    "from requests import get, post"
   ]
  },
  {
   "cell_type": "code",
   "execution_count": 6,
   "metadata": {},
   "outputs": [
    {
     "data": {
      "text/plain": [
       "'{\"mensagem\":\"Bem vindo a api de operações básicas, cheque a documentação e o método POST: math!\"}'"
      ]
     },
     "execution_count": 6,
     "metadata": {},
     "output_type": "execute_result"
    }
   ],
   "source": [
    "req_get = get(\"http://localhost:8000\")\n",
    "\n",
    "req_get.text"
   ]
  },
  {
   "cell_type": "code",
   "execution_count": 7,
   "metadata": {},
   "outputs": [
    {
     "data": {
      "text/plain": [
       "'{\"detail\":[{\"loc\":[\"body\",\"valor1\"],\"msg\":\"field required\",\"type\":\"value_error.missing\"},{\"loc\":[\"body\",\"valor2\"],\"msg\":\"field required\",\"type\":\"value_error.missing\"}]}'"
      ]
     },
     "execution_count": 7,
     "metadata": {},
     "output_type": "execute_result"
    }
   ],
   "source": [
    "req_post_sm = post(\"http://localhost:8000/math\", json={ \"valor_1\": 10, \"valor_2\": 15, \"oper\": \"+\"})\n",
    "\n",
    "req_post_sm.text"
   ]
  },
  {
   "cell_type": "code",
   "execution_count": 8,
   "metadata": {},
   "outputs": [
    {
     "data": {
      "text/plain": [
       "'{\"detail\":[{\"loc\":[\"body\",\"valor1\"],\"msg\":\"field required\",\"type\":\"value_error.missing\"},{\"loc\":[\"body\",\"valor2\"],\"msg\":\"field required\",\"type\":\"value_error.missing\"}]}'"
      ]
     },
     "execution_count": 8,
     "metadata": {},
     "output_type": "execute_result"
    }
   ],
   "source": [
    "req_post_sb = post(\"http://localhost:8000/math\", json={ \"valor_1\": 25, \"valor_2\": 10, \"oper\": \"-\"})\n",
    "\n",
    "req_post_sm.text"
   ]
  }
 ],
 "metadata": {
  "interpreter": {
   "hash": "341580bcbfdfdeb46ed257f5daacef2019791bc696b15009c6c87814a8fe506d"
  },
  "kernelspec": {
   "display_name": "Python 3.10.4 ('venv': venv)",
   "language": "python",
   "name": "python3"
  },
  "language_info": {
   "codemirror_mode": {
    "name": "ipython",
    "version": 3
   },
   "file_extension": ".py",
   "mimetype": "text/x-python",
   "name": "python",
   "nbconvert_exporter": "python",
   "pygments_lexer": "ipython3",
   "version": "3.10.4"
  },
  "orig_nbformat": 4
 },
 "nbformat": 4,
 "nbformat_minor": 2
}
